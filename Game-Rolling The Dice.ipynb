{
 "cells": [
  {
   "cell_type": "markdown",
   "id": "fa6df423",
   "metadata": {},
   "source": [
    "# Game-Rolling The Dice"
   ]
  },
  {
   "cell_type": "code",
   "execution_count": 1,
   "id": "25e293e1",
   "metadata": {},
   "outputs": [
    {
     "name": "stdout",
     "output_type": "stream",
     "text": [
      "How many player: 10\n",
      "Player {0} Name : a\n",
      "Player {0} Name : s\n",
      "Player {0} Name : d\n",
      "Player {0} Name : f\n",
      "Player {0} Name : g\n",
      "Player {0} Name : hj\n",
      "Player {0} Name : k\n",
      "Player {0} Name : l\n",
      "Player {0} Name : l\n",
      "Player {0} Name : w\n",
      "Rolling the Dice.............\n",
      "Your value is: \n",
      "a : 3\n",
      "s : 2\n",
      "d : 4\n",
      "f : 3\n",
      "g : 1\n",
      "hj : 3\n",
      "k : 4\n",
      "l : 5\n",
      "l : 3\n",
      "w : 3\n",
      "Rolling again (y/n): n\n",
      "Thank You\n"
     ]
    }
   ],
   "source": [
    "import random\n",
    "import time\n",
    "\n",
    "roll_again = 'y'\n",
    "minimum = 1\n",
    "maximum = 6\n",
    "n = int(input(\"How many player: \"))\n",
    "name = []\n",
    "for i in range(1, n+1):\n",
    "    name1 = input(\"Player {0} Name : \")\n",
    "    name.append(name1)\n",
    "while roll_again in ('y','Y'):\n",
    "    print(\"Rolling the Dice.............\")\n",
    "    time.sleep(2)\n",
    "    print(\"Your value is: \")\n",
    "    for i in range(0,n):\n",
    "        result = random.randint(minimum, maximum)\n",
    "        print(\"{} : {}\".format(name[i], result))\n",
    "    roll_again= input(\"Rolling again (y/n): \")\n",
    "    if roll_again in ('n','N'):\n",
    "        print(\"Thank You\")\n",
    "        break\n",
    "    else:\n",
    "        roll_again = 'y'"
   ]
  },
  {
   "cell_type": "code",
   "execution_count": null,
   "id": "1aa27786",
   "metadata": {},
   "outputs": [],
   "source": []
  }
 ],
 "metadata": {
  "kernelspec": {
   "display_name": "Python 3 (ipykernel)",
   "language": "python",
   "name": "python3"
  },
  "language_info": {
   "codemirror_mode": {
    "name": "ipython",
    "version": 3
   },
   "file_extension": ".py",
   "mimetype": "text/x-python",
   "name": "python",
   "nbconvert_exporter": "python",
   "pygments_lexer": "ipython3",
   "version": "3.10.3"
  }
 },
 "nbformat": 4,
 "nbformat_minor": 5
}
